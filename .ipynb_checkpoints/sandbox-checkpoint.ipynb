{
 "cells": [
  {
   "cell_type": "code",
   "execution_count": 1,
   "metadata": {
    "ExecuteTime": {
     "end_time": "2021-11-22T11:36:00.093825Z",
     "start_time": "2021-11-22T11:36:00.078084Z"
    }
   },
   "outputs": [],
   "source": [
    "from pathlib import  Path"
   ]
  },
  {
   "cell_type": "code",
   "execution_count": 2,
   "metadata": {
    "ExecuteTime": {
     "end_time": "2021-11-22T11:36:09.351813Z",
     "start_time": "2021-11-22T11:36:09.334440Z"
    }
   },
   "outputs": [],
   "source": [
    "p = Path('lilypond')"
   ]
  },
  {
   "cell_type": "code",
   "execution_count": 13,
   "metadata": {
    "ExecuteTime": {
     "end_time": "2021-11-22T11:56:18.651354Z",
     "start_time": "2021-11-22T11:56:18.596751Z"
    }
   },
   "outputs": [],
   "source": [
    "import re\n",
    "v = re.compile(r'\\\\version \"(.*?)\"')\n",
    "for f in p.glob('*'):\n",
    "    if f.is_dir():\n",
    "        continue\n",
    "    with open(f, encoding='utf8') as fs:\n",
    "        txt = fs.read()\n",
    "        vers = v.findall(txt)\n",
    "        if not vers or vers[0] != '2.22.0':\n",
    "            print(f.stem, v.findall(txt))"
   ]
  },
  {
   "cell_type": "code",
   "execution_count": 15,
   "metadata": {
    "ExecuteTime": {
     "end_time": "2021-11-22T12:43:46.488857Z",
     "start_time": "2021-11-22T12:43:46.446060Z"
    }
   },
   "outputs": [
    {
     "name": "stdout",
     "output_type": "stream",
     "text": [
      "It_dont_mean_a_thing\n",
      "Someday_my_prince\n"
     ]
    }
   ],
   "source": [
    "for f in p.glob('*'):\n",
    "    if f.is_dir():\n",
    "        continue\n",
    "    txt = f.stem\n",
    "    if txt.lower() != txt:\n",
    "        print(txt)"
   ]
  }
 ],
 "metadata": {
  "kernelspec": {
   "display_name": "Python 3",
   "language": "python",
   "name": "python3"
  },
  "language_info": {
   "codemirror_mode": {
    "name": "ipython",
    "version": 3
   },
   "file_extension": ".py",
   "mimetype": "text/x-python",
   "name": "python",
   "nbconvert_exporter": "python",
   "pygments_lexer": "ipython3",
   "version": "3.7.7"
  },
  "toc": {
   "base_numbering": 1,
   "nav_menu": {},
   "number_sections": true,
   "sideBar": true,
   "skip_h1_title": true,
   "title_cell": "Table of Contents",
   "title_sidebar": "Contents",
   "toc_cell": false,
   "toc_position": {},
   "toc_section_display": true,
   "toc_window_display": false
  }
 },
 "nbformat": 4,
 "nbformat_minor": 4
}
